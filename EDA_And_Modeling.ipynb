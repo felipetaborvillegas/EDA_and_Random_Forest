{
 "cells": [
  {
   "cell_type": "markdown",
   "id": "ffc74e33-ab5b-4730-be0f-44e41625e360",
   "metadata": {},
   "source": [
    "# RETO 1 - \"Diabetes 130-US hospitals for years 1999-2008\""
   ]
  },
  {
   "cell_type": "markdown",
   "id": "63d5a5d2-fb21-4177-9d0d-68e12972a8cf",
   "metadata": {},
   "source": [
    "It is important to mention that to have a good context, reading this paper is necessary because\n",
    "multiple analyses were made based on the information provided there:\n",
    "\n",
    "**\"https://www.hindawi.com/journals/bmri/2014/781670/\"**"
   ]
  },
  {
   "cell_type": "code",
   "execution_count": 1,
   "id": "c49a7837-d1f0-485a-b4fd-47b22fca5aa1",
   "metadata": {
    "scrolled": true
   },
   "outputs": [],
   "source": [
    "# Packages\n",
    "\n",
    "import pandas as pd\n",
    "import warnings\n",
    "from sklearn.model_selection import train_test_split\n",
    "from sklearn.ensemble import RandomForestClassifier\n",
    "from sklearn.metrics import f1_score"
   ]
  },
  {
   "cell_type": "markdown",
   "id": "d3631c45-dd56-4755-95e7-52a54f9dcc23",
   "metadata": {},
   "source": [
    "## Importing the data"
   ]
  },
  {
   "cell_type": "code",
   "execution_count": 2,
   "id": "dcee3b56-fcd3-4c7c-9304-a00548dd59b9",
   "metadata": {},
   "outputs": [],
   "source": [
    "# Install in the local machine the package \"repository\" of the datasets \n",
    "# from the UC Irvine Machine Learning Repository\n",
    "\n",
    "!pip3 install -U -q ucimlrepo"
   ]
  },
  {
   "cell_type": "code",
   "execution_count": 3,
   "id": "05b598eb-623c-4ddb-b678-c49a06810b02",
   "metadata": {},
   "outputs": [],
   "source": [
    "# Import the specific dataset from the repository\n",
    "\n",
    "from ucimlrepo import fetch_ucirepo\n",
    "\n",
    "# We use warnings to prevent any warning message from being displayed because\n",
    "# we will check the dataframes in detail on the next steps\n",
    "with warnings.catch_warnings():\n",
    "    warnings.simplefilter(\"ignore\")\n",
    "    \n",
    "    # fetch dataset \n",
    "    diabetes_130_us_hospitals_for_years_1999_2008 = fetch_ucirepo(id=296)\n",
    "  \n",
    "    # data (as pandas dataframes) \n",
    "    features = diabetes_130_us_hospitals_for_years_1999_2008.data.features \n",
    "    target = diabetes_130_us_hospitals_for_years_1999_2008.data.targets"
   ]
  },
  {
   "cell_type": "code",
   "execution_count": 4,
   "id": "0931b7cb-47d1-4668-b03c-f423acc54b0d",
   "metadata": {},
   "outputs": [
    {
     "data": {
      "text/html": [
       "<div>\n",
       "<style scoped>\n",
       "    .dataframe tbody tr th:only-of-type {\n",
       "        vertical-align: middle;\n",
       "    }\n",
       "\n",
       "    .dataframe tbody tr th {\n",
       "        vertical-align: top;\n",
       "    }\n",
       "\n",
       "    .dataframe thead th {\n",
       "        text-align: right;\n",
       "    }\n",
       "</style>\n",
       "<table border=\"1\" class=\"dataframe\">\n",
       "  <thead>\n",
       "    <tr style=\"text-align: right;\">\n",
       "      <th></th>\n",
       "      <th>race</th>\n",
       "      <th>gender</th>\n",
       "      <th>age</th>\n",
       "      <th>weight</th>\n",
       "      <th>admission_type_id</th>\n",
       "      <th>discharge_disposition_id</th>\n",
       "      <th>admission_source_id</th>\n",
       "      <th>time_in_hospital</th>\n",
       "      <th>payer_code</th>\n",
       "      <th>medical_specialty</th>\n",
       "      <th>...</th>\n",
       "      <th>examide</th>\n",
       "      <th>citoglipton</th>\n",
       "      <th>insulin</th>\n",
       "      <th>glyburide-metformin</th>\n",
       "      <th>glipizide-metformin</th>\n",
       "      <th>glimepiride-pioglitazone</th>\n",
       "      <th>metformin-rosiglitazone</th>\n",
       "      <th>metformin-pioglitazone</th>\n",
       "      <th>change</th>\n",
       "      <th>diabetesMed</th>\n",
       "    </tr>\n",
       "  </thead>\n",
       "  <tbody>\n",
       "    <tr>\n",
       "      <th>0</th>\n",
       "      <td>Caucasian</td>\n",
       "      <td>Female</td>\n",
       "      <td>[0-10)</td>\n",
       "      <td>NaN</td>\n",
       "      <td>6</td>\n",
       "      <td>25</td>\n",
       "      <td>1</td>\n",
       "      <td>1</td>\n",
       "      <td>NaN</td>\n",
       "      <td>Pediatrics-Endocrinology</td>\n",
       "      <td>...</td>\n",
       "      <td>No</td>\n",
       "      <td>No</td>\n",
       "      <td>No</td>\n",
       "      <td>No</td>\n",
       "      <td>No</td>\n",
       "      <td>No</td>\n",
       "      <td>No</td>\n",
       "      <td>No</td>\n",
       "      <td>No</td>\n",
       "      <td>No</td>\n",
       "    </tr>\n",
       "    <tr>\n",
       "      <th>1</th>\n",
       "      <td>Caucasian</td>\n",
       "      <td>Female</td>\n",
       "      <td>[10-20)</td>\n",
       "      <td>NaN</td>\n",
       "      <td>1</td>\n",
       "      <td>1</td>\n",
       "      <td>7</td>\n",
       "      <td>3</td>\n",
       "      <td>NaN</td>\n",
       "      <td>NaN</td>\n",
       "      <td>...</td>\n",
       "      <td>No</td>\n",
       "      <td>No</td>\n",
       "      <td>Up</td>\n",
       "      <td>No</td>\n",
       "      <td>No</td>\n",
       "      <td>No</td>\n",
       "      <td>No</td>\n",
       "      <td>No</td>\n",
       "      <td>Ch</td>\n",
       "      <td>Yes</td>\n",
       "    </tr>\n",
       "    <tr>\n",
       "      <th>2</th>\n",
       "      <td>AfricanAmerican</td>\n",
       "      <td>Female</td>\n",
       "      <td>[20-30)</td>\n",
       "      <td>NaN</td>\n",
       "      <td>1</td>\n",
       "      <td>1</td>\n",
       "      <td>7</td>\n",
       "      <td>2</td>\n",
       "      <td>NaN</td>\n",
       "      <td>NaN</td>\n",
       "      <td>...</td>\n",
       "      <td>No</td>\n",
       "      <td>No</td>\n",
       "      <td>No</td>\n",
       "      <td>No</td>\n",
       "      <td>No</td>\n",
       "      <td>No</td>\n",
       "      <td>No</td>\n",
       "      <td>No</td>\n",
       "      <td>No</td>\n",
       "      <td>Yes</td>\n",
       "    </tr>\n",
       "    <tr>\n",
       "      <th>3</th>\n",
       "      <td>Caucasian</td>\n",
       "      <td>Male</td>\n",
       "      <td>[30-40)</td>\n",
       "      <td>NaN</td>\n",
       "      <td>1</td>\n",
       "      <td>1</td>\n",
       "      <td>7</td>\n",
       "      <td>2</td>\n",
       "      <td>NaN</td>\n",
       "      <td>NaN</td>\n",
       "      <td>...</td>\n",
       "      <td>No</td>\n",
       "      <td>No</td>\n",
       "      <td>Up</td>\n",
       "      <td>No</td>\n",
       "      <td>No</td>\n",
       "      <td>No</td>\n",
       "      <td>No</td>\n",
       "      <td>No</td>\n",
       "      <td>Ch</td>\n",
       "      <td>Yes</td>\n",
       "    </tr>\n",
       "    <tr>\n",
       "      <th>4</th>\n",
       "      <td>Caucasian</td>\n",
       "      <td>Male</td>\n",
       "      <td>[40-50)</td>\n",
       "      <td>NaN</td>\n",
       "      <td>1</td>\n",
       "      <td>1</td>\n",
       "      <td>7</td>\n",
       "      <td>1</td>\n",
       "      <td>NaN</td>\n",
       "      <td>NaN</td>\n",
       "      <td>...</td>\n",
       "      <td>No</td>\n",
       "      <td>No</td>\n",
       "      <td>Steady</td>\n",
       "      <td>No</td>\n",
       "      <td>No</td>\n",
       "      <td>No</td>\n",
       "      <td>No</td>\n",
       "      <td>No</td>\n",
       "      <td>Ch</td>\n",
       "      <td>Yes</td>\n",
       "    </tr>\n",
       "  </tbody>\n",
       "</table>\n",
       "<p>5 rows × 47 columns</p>\n",
       "</div>"
      ],
      "text/plain": [
       "              race  gender      age weight  admission_type_id  \\\n",
       "0        Caucasian  Female   [0-10)    NaN                  6   \n",
       "1        Caucasian  Female  [10-20)    NaN                  1   \n",
       "2  AfricanAmerican  Female  [20-30)    NaN                  1   \n",
       "3        Caucasian    Male  [30-40)    NaN                  1   \n",
       "4        Caucasian    Male  [40-50)    NaN                  1   \n",
       "\n",
       "   discharge_disposition_id  admission_source_id  time_in_hospital payer_code  \\\n",
       "0                        25                    1                 1        NaN   \n",
       "1                         1                    7                 3        NaN   \n",
       "2                         1                    7                 2        NaN   \n",
       "3                         1                    7                 2        NaN   \n",
       "4                         1                    7                 1        NaN   \n",
       "\n",
       "          medical_specialty  ...  examide  citoglipton  insulin  \\\n",
       "0  Pediatrics-Endocrinology  ...       No           No       No   \n",
       "1                       NaN  ...       No           No       Up   \n",
       "2                       NaN  ...       No           No       No   \n",
       "3                       NaN  ...       No           No       Up   \n",
       "4                       NaN  ...       No           No   Steady   \n",
       "\n",
       "   glyburide-metformin  glipizide-metformin  glimepiride-pioglitazone  \\\n",
       "0                   No                   No                        No   \n",
       "1                   No                   No                        No   \n",
       "2                   No                   No                        No   \n",
       "3                   No                   No                        No   \n",
       "4                   No                   No                        No   \n",
       "\n",
       "  metformin-rosiglitazone metformin-pioglitazone change  diabetesMed  \n",
       "0                      No                     No     No           No  \n",
       "1                      No                     No     Ch          Yes  \n",
       "2                      No                     No     No          Yes  \n",
       "3                      No                     No     Ch          Yes  \n",
       "4                      No                     No     Ch          Yes  \n",
       "\n",
       "[5 rows x 47 columns]"
      ]
     },
     "execution_count": 4,
     "metadata": {},
     "output_type": "execute_result"
    }
   ],
   "source": [
    "# Quick view to check the dataframes (features)\n",
    "features.head()"
   ]
  },
  {
   "cell_type": "code",
   "execution_count": 5,
   "id": "a9a4ab9e-5b69-489d-91ed-650f03bb154a",
   "metadata": {},
   "outputs": [
    {
     "data": {
      "text/html": [
       "<div>\n",
       "<style scoped>\n",
       "    .dataframe tbody tr th:only-of-type {\n",
       "        vertical-align: middle;\n",
       "    }\n",
       "\n",
       "    .dataframe tbody tr th {\n",
       "        vertical-align: top;\n",
       "    }\n",
       "\n",
       "    .dataframe thead th {\n",
       "        text-align: right;\n",
       "    }\n",
       "</style>\n",
       "<table border=\"1\" class=\"dataframe\">\n",
       "  <thead>\n",
       "    <tr style=\"text-align: right;\">\n",
       "      <th></th>\n",
       "      <th>readmitted</th>\n",
       "    </tr>\n",
       "  </thead>\n",
       "  <tbody>\n",
       "    <tr>\n",
       "      <th>0</th>\n",
       "      <td>NO</td>\n",
       "    </tr>\n",
       "    <tr>\n",
       "      <th>1</th>\n",
       "      <td>&gt;30</td>\n",
       "    </tr>\n",
       "    <tr>\n",
       "      <th>2</th>\n",
       "      <td>NO</td>\n",
       "    </tr>\n",
       "    <tr>\n",
       "      <th>3</th>\n",
       "      <td>NO</td>\n",
       "    </tr>\n",
       "    <tr>\n",
       "      <th>4</th>\n",
       "      <td>NO</td>\n",
       "    </tr>\n",
       "  </tbody>\n",
       "</table>\n",
       "</div>"
      ],
      "text/plain": [
       "  readmitted\n",
       "0         NO\n",
       "1        >30\n",
       "2         NO\n",
       "3         NO\n",
       "4         NO"
      ]
     },
     "execution_count": 5,
     "metadata": {},
     "output_type": "execute_result"
    }
   ],
   "source": [
    "# Quick view to check the dataframes (target)\n",
    "target.head()"
   ]
  },
  {
   "cell_type": "markdown",
   "id": "3e1120a2-52ab-413a-b6c4-83e592e9fb26",
   "metadata": {},
   "source": [
    "## Data exploration"
   ]
  },
  {
   "cell_type": "markdown",
   "id": "d3d3655a-bc73-4aba-a6cc-b87f943b6b0a",
   "metadata": {},
   "source": [
    "#### Features"
   ]
  },
  {
   "cell_type": "code",
   "execution_count": 6,
   "id": "95a7de9a-d5dd-4fde-bd26-943e6be99874",
   "metadata": {},
   "outputs": [
    {
     "data": {
      "text/plain": [
       "(101766, 47)"
      ]
     },
     "execution_count": 6,
     "metadata": {},
     "output_type": "execute_result"
    }
   ],
   "source": [
    "# Dimensions of the dataset\n",
    "features.shape"
   ]
  },
  {
   "cell_type": "raw",
   "id": "cbfa7b9e-17c4-4bd6-a5cb-7f73bc1721c3",
   "metadata": {},
   "source": [
    "The dataset has 101766 rows and 47 columns.\n",
    "\n",
    "In other words, we have 101766 encounters(each encounter corresponds to a unique patient diagnosed with diabetes)\n",
    "that satisfied the following criteria:\n",
    "\n",
    "(1) It is an inpatient encounter (a hospital admission).\n",
    "(2) It is a “diabetic” encounter, that is, one during which any kind of diabetes was entered into the system as a diagnosis.\n",
    "(3) The length of stay was at least 1 day and at most 14 days.\n",
    "(4) Laboratory tests were performed during the encounter.\n",
    "(5) Medications were administered during the encounter.\n",
    "\n",
    "47 variables were collected to determine the \"readmitted\" state of a patient."
   ]
  },
  {
   "cell_type": "code",
   "execution_count": 7,
   "id": "7f401985-24d0-4a26-993f-afb9485d997c",
   "metadata": {},
   "outputs": [
    {
     "name": "stdout",
     "output_type": "stream",
     "text": [
      "<class 'pandas.core.frame.DataFrame'>\n",
      "RangeIndex: 101766 entries, 0 to 101765\n",
      "Data columns (total 47 columns):\n",
      " #   Column                    Non-Null Count   Dtype \n",
      "---  ------                    --------------   ----- \n",
      " 0   race                      99493 non-null   object\n",
      " 1   gender                    101766 non-null  object\n",
      " 2   age                       101766 non-null  object\n",
      " 3   weight                    3197 non-null    object\n",
      " 4   admission_type_id         101766 non-null  int64 \n",
      " 5   discharge_disposition_id  101766 non-null  int64 \n",
      " 6   admission_source_id       101766 non-null  int64 \n",
      " 7   time_in_hospital          101766 non-null  int64 \n",
      " 8   payer_code                61510 non-null   object\n",
      " 9   medical_specialty         51817 non-null   object\n",
      " 10  num_lab_procedures        101766 non-null  int64 \n",
      " 11  num_procedures            101766 non-null  int64 \n",
      " 12  num_medications           101766 non-null  int64 \n",
      " 13  number_outpatient         101766 non-null  int64 \n",
      " 14  number_emergency          101766 non-null  int64 \n",
      " 15  number_inpatient          101766 non-null  int64 \n",
      " 16  diag_1                    101745 non-null  object\n",
      " 17  diag_2                    101408 non-null  object\n",
      " 18  diag_3                    100343 non-null  object\n",
      " 19  number_diagnoses          101766 non-null  int64 \n",
      " 20  max_glu_serum             101766 non-null  object\n",
      " 21  A1Cresult                 101766 non-null  object\n",
      " 22  metformin                 101766 non-null  object\n",
      " 23  repaglinide               101766 non-null  object\n",
      " 24  nateglinide               101766 non-null  object\n",
      " 25  chlorpropamide            101766 non-null  object\n",
      " 26  glimepiride               101766 non-null  object\n",
      " 27  acetohexamide             101766 non-null  object\n",
      " 28  glipizide                 101766 non-null  object\n",
      " 29  glyburide                 101766 non-null  object\n",
      " 30  tolbutamide               101766 non-null  object\n",
      " 31  pioglitazone              101766 non-null  object\n",
      " 32  rosiglitazone             101766 non-null  object\n",
      " 33  acarbose                  101766 non-null  object\n",
      " 34  miglitol                  101766 non-null  object\n",
      " 35  troglitazone              101766 non-null  object\n",
      " 36  tolazamide                101766 non-null  object\n",
      " 37  examide                   101766 non-null  object\n",
      " 38  citoglipton               101766 non-null  object\n",
      " 39  insulin                   101766 non-null  object\n",
      " 40  glyburide-metformin       101766 non-null  object\n",
      " 41  glipizide-metformin       101766 non-null  object\n",
      " 42  glimepiride-pioglitazone  101766 non-null  object\n",
      " 43  metformin-rosiglitazone   101766 non-null  object\n",
      " 44  metformin-pioglitazone    101766 non-null  object\n",
      " 45  change                    101766 non-null  object\n",
      " 46  diabetesMed               101766 non-null  object\n",
      "dtypes: int64(11), object(36)\n",
      "memory usage: 36.5+ MB\n"
     ]
    }
   ],
   "source": [
    "# Let's see the non-null count per column and the Dtype\n",
    "features.info()"
   ]
  },
  {
   "cell_type": "raw",
   "id": "1852cd90-6ded-45d0-91b0-4b19532337b6",
   "metadata": {},
   "source": [
    "Keeping in mind that the total number of rows is 101766 we see that there are 3 columns with a high number \n",
    "of missing values: \"weight\", \"payer_code\" and \"medical_specialty\".\n",
    "\n",
    "We compare the dtype of the variables in Python vs the intended type when the data was collected and\n",
    "the appropriate type according to the description and values of the variable. Seems we need to change the dtype for these variables:\n",
    "\n",
    "admission_type_id --> object\n",
    "discharge_disposition_id --> object\n",
    "admission_source_id --> object\n",
    "\n",
    "Nevertheless, during further analysis, we may need to change the type of a specific variable. \n",
    "The reason for that change will be provided when it happens."
   ]
  },
  {
   "cell_type": "code",
   "execution_count": 8,
   "id": "348a9319-dea9-4e67-86c1-99fcc9381bfb",
   "metadata": {},
   "outputs": [
    {
     "data": {
      "text/plain": [
       "race                         2.233555\n",
       "gender                       0.000000\n",
       "age                          0.000000\n",
       "weight                      96.858479\n",
       "admission_type_id            0.000000\n",
       "discharge_disposition_id     0.000000\n",
       "admission_source_id          0.000000\n",
       "time_in_hospital             0.000000\n",
       "payer_code                  39.557416\n",
       "medical_specialty           49.082208\n",
       "num_lab_procedures           0.000000\n",
       "num_procedures               0.000000\n",
       "num_medications              0.000000\n",
       "number_outpatient            0.000000\n",
       "number_emergency             0.000000\n",
       "number_inpatient             0.000000\n",
       "diag_1                       0.020636\n",
       "diag_2                       0.351787\n",
       "diag_3                       1.398306\n",
       "number_diagnoses             0.000000\n",
       "max_glu_serum                0.000000\n",
       "A1Cresult                    0.000000\n",
       "metformin                    0.000000\n",
       "repaglinide                  0.000000\n",
       "nateglinide                  0.000000\n",
       "chlorpropamide               0.000000\n",
       "glimepiride                  0.000000\n",
       "acetohexamide                0.000000\n",
       "glipizide                    0.000000\n",
       "glyburide                    0.000000\n",
       "tolbutamide                  0.000000\n",
       "pioglitazone                 0.000000\n",
       "rosiglitazone                0.000000\n",
       "acarbose                     0.000000\n",
       "miglitol                     0.000000\n",
       "troglitazone                 0.000000\n",
       "tolazamide                   0.000000\n",
       "examide                      0.000000\n",
       "citoglipton                  0.000000\n",
       "insulin                      0.000000\n",
       "glyburide-metformin          0.000000\n",
       "glipizide-metformin          0.000000\n",
       "glimepiride-pioglitazone     0.000000\n",
       "metformin-rosiglitazone      0.000000\n",
       "metformin-pioglitazone       0.000000\n",
       "change                       0.000000\n",
       "diabetesMed                  0.000000\n",
       "dtype: float64"
      ]
     },
     "execution_count": 8,
     "metadata": {},
     "output_type": "execute_result"
    }
   ],
   "source": [
    "# % Missing data\n",
    "percentage_missing_values = (features.isna().sum()/features.shape[0])*100\n",
    "percentage_missing_values"
   ]
  },
  {
   "cell_type": "raw",
   "id": "ca5d7a75-a8c8-4237-a9a4-27e89cf6464c",
   "metadata": {},
   "source": [
    "We confirmed that variables \"weight\", \"payer_code\" and \"medical_specialty\" have many missing values.\n",
    "So, they will be good candidates to be deleted."
   ]
  },
  {
   "cell_type": "markdown",
   "id": "0c292fc7-77e1-4515-93c1-ea8613117b89",
   "metadata": {},
   "source": [
    "###### Handling missing values and changing dtypes"
   ]
  },
  {
   "cell_type": "code",
   "execution_count": 9,
   "id": "7dfed507-4e72-4917-8645-82cf26c99a4e",
   "metadata": {},
   "outputs": [],
   "source": [
    "# Columns with a high number (>=30%) of missing values\n",
    "columns_to_delete = percentage_missing_values[percentage_missing_values >= 30]\n",
    "\n",
    "# Remove column \"medical_specialty\" from the serie\n",
    "del columns_to_delete[\"medical_specialty\"]\n",
    "\n",
    "with warnings.catch_warnings():\n",
    "    warnings.simplefilter(\"ignore\")\n",
    "    # Delete columns from dataframe\n",
    "    features.drop(columns=columns_to_delete.index, inplace=True)\n",
    "\n",
    "    # Columns with missing values to impute\n",
    "    column_missing_values = features.isna().sum()[features.isna().sum() > 0]\n",
    "\n",
    "    # Columns to impute filling with a Unique Category\n",
    "    column_missing_values.pop(\"medical_specialty\")\n",
    "    features[\"medical_specialty\"].fillna(\"missing\", inplace=True)\n",
    "\n",
    "    # Imputing data using the mode\n",
    "    features[column_missing_values.index] = features[column_missing_values.index].apply(lambda x: x.fillna(x.mode().iloc[0]))"
   ]
  },
  {
   "cell_type": "raw",
   "id": "c2242770-5e16-4e0c-bdc3-45e65c8b44ce",
   "metadata": {},
   "source": [
    "Deleted columns:\n",
    "* Weight: roughly 97% of missing data\n",
    "* Payer_code: high percentage of missing values and it was not considered relevant to the outcome\n",
    "\n",
    "Columns imputed with a Unique Category:\n",
    "* medical_specialty: although this variable has many missing values (~49%) could be useful for further analysis. So,\n",
    "we imputed it with the category \"missing\"\n",
    "\n",
    "Columns imputed using the mode:\n",
    "* Race\n",
    "* Diag_1\n",
    "* Diag_2\n",
    "* Diag_3"
   ]
  },
  {
   "cell_type": "code",
   "execution_count": 10,
   "id": "c9717eee-18b1-4b6b-a420-97f837a84221",
   "metadata": {},
   "outputs": [],
   "source": [
    "# Changing the dtypes\n",
    "with warnings.catch_warnings():\n",
    "    warnings.simplefilter(\"ignore\")\n",
    "    features[\"admission_type_id\"] = features[\"admission_type_id\"].astype(str)\n",
    "    features[\"discharge_disposition_id\"] = features[\"discharge_disposition_id\"].astype(str)\n",
    "    features[\"admission_source_id\"] = features[\"admission_source_id\"].astype(str)"
   ]
  },
  {
   "cell_type": "markdown",
   "id": "a8cfbb75-5b87-4ebe-8a6d-30af734d2398",
   "metadata": {},
   "source": [
    "###### Descriptive Statistics "
   ]
  },
  {
   "cell_type": "code",
   "execution_count": 11,
   "id": "8250190c-0fa5-4080-9c6a-81f5b4f3e1ce",
   "metadata": {},
   "outputs": [
    {
     "data": {
      "text/html": [
       "<div>\n",
       "<style scoped>\n",
       "    .dataframe tbody tr th:only-of-type {\n",
       "        vertical-align: middle;\n",
       "    }\n",
       "\n",
       "    .dataframe tbody tr th {\n",
       "        vertical-align: top;\n",
       "    }\n",
       "\n",
       "    .dataframe thead th {\n",
       "        text-align: right;\n",
       "    }\n",
       "</style>\n",
       "<table border=\"1\" class=\"dataframe\">\n",
       "  <thead>\n",
       "    <tr style=\"text-align: right;\">\n",
       "      <th></th>\n",
       "      <th>time_in_hospital</th>\n",
       "      <th>num_lab_procedures</th>\n",
       "      <th>num_procedures</th>\n",
       "      <th>num_medications</th>\n",
       "      <th>number_outpatient</th>\n",
       "      <th>number_emergency</th>\n",
       "      <th>number_inpatient</th>\n",
       "      <th>number_diagnoses</th>\n",
       "    </tr>\n",
       "  </thead>\n",
       "  <tbody>\n",
       "    <tr>\n",
       "      <th>count</th>\n",
       "      <td>101766.000000</td>\n",
       "      <td>101766.000000</td>\n",
       "      <td>101766.000000</td>\n",
       "      <td>101766.000000</td>\n",
       "      <td>101766.000000</td>\n",
       "      <td>101766.000000</td>\n",
       "      <td>101766.000000</td>\n",
       "      <td>101766.000000</td>\n",
       "    </tr>\n",
       "    <tr>\n",
       "      <th>mean</th>\n",
       "      <td>4.395987</td>\n",
       "      <td>43.095641</td>\n",
       "      <td>1.339730</td>\n",
       "      <td>16.021844</td>\n",
       "      <td>0.369357</td>\n",
       "      <td>0.197836</td>\n",
       "      <td>0.635566</td>\n",
       "      <td>7.422607</td>\n",
       "    </tr>\n",
       "    <tr>\n",
       "      <th>std</th>\n",
       "      <td>2.985108</td>\n",
       "      <td>19.674362</td>\n",
       "      <td>1.705807</td>\n",
       "      <td>8.127566</td>\n",
       "      <td>1.267265</td>\n",
       "      <td>0.930472</td>\n",
       "      <td>1.262863</td>\n",
       "      <td>1.933600</td>\n",
       "    </tr>\n",
       "    <tr>\n",
       "      <th>min</th>\n",
       "      <td>1.000000</td>\n",
       "      <td>1.000000</td>\n",
       "      <td>0.000000</td>\n",
       "      <td>1.000000</td>\n",
       "      <td>0.000000</td>\n",
       "      <td>0.000000</td>\n",
       "      <td>0.000000</td>\n",
       "      <td>1.000000</td>\n",
       "    </tr>\n",
       "    <tr>\n",
       "      <th>25%</th>\n",
       "      <td>2.000000</td>\n",
       "      <td>31.000000</td>\n",
       "      <td>0.000000</td>\n",
       "      <td>10.000000</td>\n",
       "      <td>0.000000</td>\n",
       "      <td>0.000000</td>\n",
       "      <td>0.000000</td>\n",
       "      <td>6.000000</td>\n",
       "    </tr>\n",
       "    <tr>\n",
       "      <th>50%</th>\n",
       "      <td>4.000000</td>\n",
       "      <td>44.000000</td>\n",
       "      <td>1.000000</td>\n",
       "      <td>15.000000</td>\n",
       "      <td>0.000000</td>\n",
       "      <td>0.000000</td>\n",
       "      <td>0.000000</td>\n",
       "      <td>8.000000</td>\n",
       "    </tr>\n",
       "    <tr>\n",
       "      <th>75%</th>\n",
       "      <td>6.000000</td>\n",
       "      <td>57.000000</td>\n",
       "      <td>2.000000</td>\n",
       "      <td>20.000000</td>\n",
       "      <td>0.000000</td>\n",
       "      <td>0.000000</td>\n",
       "      <td>1.000000</td>\n",
       "      <td>9.000000</td>\n",
       "    </tr>\n",
       "    <tr>\n",
       "      <th>max</th>\n",
       "      <td>14.000000</td>\n",
       "      <td>132.000000</td>\n",
       "      <td>6.000000</td>\n",
       "      <td>81.000000</td>\n",
       "      <td>42.000000</td>\n",
       "      <td>76.000000</td>\n",
       "      <td>21.000000</td>\n",
       "      <td>16.000000</td>\n",
       "    </tr>\n",
       "  </tbody>\n",
       "</table>\n",
       "</div>"
      ],
      "text/plain": [
       "       time_in_hospital  num_lab_procedures  num_procedures  num_medications  \\\n",
       "count     101766.000000       101766.000000   101766.000000    101766.000000   \n",
       "mean           4.395987           43.095641        1.339730        16.021844   \n",
       "std            2.985108           19.674362        1.705807         8.127566   \n",
       "min            1.000000            1.000000        0.000000         1.000000   \n",
       "25%            2.000000           31.000000        0.000000        10.000000   \n",
       "50%            4.000000           44.000000        1.000000        15.000000   \n",
       "75%            6.000000           57.000000        2.000000        20.000000   \n",
       "max           14.000000          132.000000        6.000000        81.000000   \n",
       "\n",
       "       number_outpatient  number_emergency  number_inpatient  number_diagnoses  \n",
       "count      101766.000000     101766.000000     101766.000000     101766.000000  \n",
       "mean            0.369357          0.197836          0.635566          7.422607  \n",
       "std             1.267265          0.930472          1.262863          1.933600  \n",
       "min             0.000000          0.000000          0.000000          1.000000  \n",
       "25%             0.000000          0.000000          0.000000          6.000000  \n",
       "50%             0.000000          0.000000          0.000000          8.000000  \n",
       "75%             0.000000          0.000000          1.000000          9.000000  \n",
       "max            42.000000         76.000000         21.000000         16.000000  "
      ]
     },
     "execution_count": 11,
     "metadata": {},
     "output_type": "execute_result"
    }
   ],
   "source": [
    "features.describe()"
   ]
  },
  {
   "cell_type": "raw",
   "id": "5d581e3e-f4a4-4a1d-814c-db5d416d0ed7",
   "metadata": {},
   "source": [
    "Data profiling numerical variables:\n",
    "\n",
    "* num_lab_procedures: it's within a \"normal\" range [1,132]. The mean and median are similar, so it does not seem to be \n",
    "extreme values. Also, the min and max values are consistent with the context.\n",
    "\n",
    "* num_procedures: it's within a \"normal\" range (~1,6]. The mean and median are similar, so it does not seem to be \n",
    "extreme values. Also, the min and max values are consistent with the context.\n",
    "\n",
    "* num_medication: it's within a \"normal\" range (~16,81]. The mean and median are similar, so it does not seem to be \n",
    "extreme values. Also, the min and max values are consistent with the context.\n",
    "\n",
    "* The other variables (number_outpatient,number_emergency,number_inpatient,number_diagnoses) follow the behaviour:\n",
    "\"normal\" ranges and similar mean and median"
   ]
  },
  {
   "cell_type": "code",
   "execution_count": 12,
   "id": "76889166-9bde-4df5-97dc-90dab528aa74",
   "metadata": {},
   "outputs": [
    {
     "data": {
      "text/plain": [
       "race                          5\n",
       "gender                        3\n",
       "age                          10\n",
       "admission_type_id             8\n",
       "discharge_disposition_id     26\n",
       "admission_source_id          17\n",
       "medical_specialty            73\n",
       "diag_1                      716\n",
       "diag_2                      748\n",
       "diag_3                      789\n",
       "max_glu_serum                 4\n",
       "A1Cresult                     4\n",
       "metformin                     4\n",
       "repaglinide                   4\n",
       "nateglinide                   4\n",
       "chlorpropamide                4\n",
       "glimepiride                   4\n",
       "acetohexamide                 2\n",
       "glipizide                     4\n",
       "glyburide                     4\n",
       "tolbutamide                   2\n",
       "pioglitazone                  4\n",
       "rosiglitazone                 4\n",
       "acarbose                      4\n",
       "miglitol                      4\n",
       "troglitazone                  2\n",
       "tolazamide                    3\n",
       "examide                       1\n",
       "citoglipton                   1\n",
       "insulin                       4\n",
       "glyburide-metformin           4\n",
       "glipizide-metformin           2\n",
       "glimepiride-pioglitazone      2\n",
       "metformin-rosiglitazone       2\n",
       "metformin-pioglitazone        2\n",
       "change                        2\n",
       "diabetesMed                   2\n",
       "dtype: int64"
      ]
     },
     "execution_count": 12,
     "metadata": {},
     "output_type": "execute_result"
    }
   ],
   "source": [
    "features.select_dtypes(include='object').nunique()"
   ]
  },
  {
   "cell_type": "raw",
   "id": "99ec686c-6a61-4f65-9e82-d1eb8787a547",
   "metadata": {},
   "source": [
    "The variables \"discharge_disposition_id\", \"admission_source_id\", \"medical_specialty\", \"diag_1\", \"diag_2\", \"diag_3\"\n",
    "have several categories. So, for sure in any further analysis, it is necessary: to aggregate the data,\n",
    "implement stratified sampling, and be cautious with overfitting."
   ]
  },
  {
   "cell_type": "markdown",
   "id": "d41a8db5-50a7-41a7-a6b7-6ba602e83ec1",
   "metadata": {},
   "source": [
    "#### Cleaning and aggregating variables with many catogories"
   ]
  },
  {
   "cell_type": "code",
   "execution_count": 13,
   "id": "386100d2-c05c-4dd2-aeb8-1008f1ff780f",
   "metadata": {},
   "outputs": [],
   "source": [
    "# Race will be in three categories to balance the data\n",
    "\n",
    "with warnings.catch_warnings():\n",
    "    warnings.simplefilter(\"ignore\")\n",
    "    features[\"race\"] = features[\"race\"].replace([\"Hispanic\", \"Asian\"], \"Other\")"
   ]
  },
  {
   "cell_type": "code",
   "execution_count": 14,
   "id": "386114f8-479f-4543-bf6b-49fae3cbadc2",
   "metadata": {},
   "outputs": [],
   "source": [
    "# Gender will have only two categories \"Female\" and \"Male\"\n",
    "# because there are just 3 \"unknown\" observations\n",
    "\n",
    "gender_mask = (features[\"gender\"] != \"Unknown/Invalid\")\n",
    "\n",
    "features = features[gender_mask]\n",
    "target = target[gender_mask]"
   ]
  },
  {
   "cell_type": "code",
   "execution_count": 15,
   "id": "77565614-702c-4f98-9bb6-ac5f64720c2e",
   "metadata": {},
   "outputs": [],
   "source": [
    "# Age will be aggregated into 3 categories (trying to split the ranges proportionally):\n",
    "\n",
    "younger_30 = [\"[20-30)\", \"[10-20)\", \"[0-10)\"]\n",
    "older_30_younger_60 = [\"[40-50)\", \"[30-40)\", \"[50-60)\"]\n",
    "older_60 = [\"[70-80)\", \"[60-70)\", \"[80-90)\", \"[90-100)\"]\n",
    "\n",
    "with warnings.catch_warnings():\n",
    "    warnings.simplefilter(\"ignore\")\n",
    "    features['age'] = features['age'].replace(younger_30, \"<=30\")\n",
    "    features['age'] = features['age'].replace(older_30_younger_60, \"(30-60)\")\n",
    "    features['age'] = features['age'].replace(older_60, \">=60\")"
   ]
  },
  {
   "cell_type": "code",
   "execution_count": 16,
   "id": "262a4eac-3e9f-474e-a120-2ac5fe9e344d",
   "metadata": {},
   "outputs": [
    {
     "name": "stdout",
     "output_type": "stream",
     "text": [
      "missing                   49947\n",
      "InternalMedicine          14635\n",
      "Emergency/Trauma           7565\n",
      "Family/GeneralPractice     7440\n",
      "Name: medical_specialty, dtype: int64\n"
     ]
    }
   ],
   "source": [
    "# Medical_specialty will be divided into 5 categories (including missing) and adding a new one \"other\"\n",
    "print(features[\"medical_specialty\"].value_counts().sort_values(ascending=False)[:4])\n",
    "\n",
    "categories_to_other = features[\"medical_specialty\"].value_counts().sort_values(ascending=False)[4:].index\n",
    "\n",
    "with warnings.catch_warnings():\n",
    "    warnings.simplefilter(\"ignore\")\n",
    "    features[\"medical_specialty\"] = features[\"medical_specialty\"].replace(categories_to_other, \"other\")"
   ]
  },
  {
   "cell_type": "raw",
   "id": "23d064d4-7717-48c0-9dc8-155a779dcbc4",
   "metadata": {},
   "source": [
    "We want to create just 5 categories with the varible \"medical_specialty\" including \"missing\" and \"other\". \n",
    "This will be particularly useful because identifying if there is any specility that could explain why a patient\n",
    "is readmitted or not can provide a good insight of the ideal speciality of the treating doctor."
   ]
  },
  {
   "cell_type": "code",
   "execution_count": 17,
   "id": "704e4f1b-dd3a-4db8-b26c-d106bcda1b85",
   "metadata": {},
   "outputs": [],
   "source": [
    "# diag_1, diag_2, diag_3. For these columns, we aggregated using the encoded \"ICD9\", in the way the paper's author suggests\n",
    "\n",
    "disease_circulatory_system = [str(x) for x in (list(range(390,460)) + [785])]\n",
    "diabetes = pd.Series([x for x in features[\"diag_1\"] if x[:3] == \"250\"]).unique()\n",
    "disease_respiratory_system = [str(x) for x in (list(range(460,520)) + [786])] \n",
    "diseases_digestive_system = [str(x) for x in (list(range(520,580)) + [787])]\n",
    "injury_and_poisoning = [str(x) for x in (list(range(800,1000)))]\n",
    "diseases_musculoskeletal_system_connective_tissue = [str(x) for x in (list(range(710,740)))]\n",
    "diseases_genitourinary_system = [str(x) for x in (list(range(580,630)) + [788])]\n",
    "neoplasms = [str(x) for x in (list(range(140,239)))]\n",
    "categories_used = [\"disease_circulatory_system\", \"diabetes\", \"disease_respiratory_system\", \n",
    "                   \"diseases_digestive_system\", \"injury_and_poisoning\", \"diseases_musculoskeletal_system_connective_tissue\",\n",
    "                   \"diseases_genitourinary_system\", \"neoplasms\"]\n",
    "with warnings.catch_warnings():\n",
    "    warnings.simplefilter(\"ignore\")\n",
    "    for x in ['diag_1', 'diag_2', 'diag_3']:\n",
    "        features[x] = features[x].replace(disease_circulatory_system, \"disease_circulatory_system\")\n",
    "        features[x] = features[x].replace(diabetes, \"diabetes\")\n",
    "        features[x] = features[x].replace(disease_respiratory_system, \"disease_respiratory_system\")\n",
    "        features[x] = features[x].replace(diseases_digestive_system, \"diseases_digestive_system\")\n",
    "        features[x] = features[x].replace(injury_and_poisoning, \"injury_and_poisoning\")\n",
    "        features[x] = features[x].replace(diseases_musculoskeletal_system_connective_tissue,\n",
    "                                                    \"diseases_musculoskeletal_system_connective_tissue\")\n",
    "        features[x] = features[x].replace(diseases_genitourinary_system, \"diseases_genitourinary_system\")\n",
    "        features[x] = features[x].replace(neoplasms, \"neoplasms\")\n",
    "        other = pd.Series([i for i in features[x] if i not in categories_used]).unique()\n",
    "        features[x] = features[x].replace(other, \"other\")"
   ]
  },
  {
   "cell_type": "code",
   "execution_count": 18,
   "id": "22b5387c-7875-44c1-a0ea-a76150abace5",
   "metadata": {},
   "outputs": [],
   "source": [
    "# For each of the columns \"admission_type_id\", \"discharge_disposition_id\" and \"admission_source_id\"\n",
    "# will be 4 categories to balance the data. The top 3 frequent categories and the four one will be labeled as \"Other\"\n",
    "# to sum up the order records.\n",
    "\n",
    "with warnings.catch_warnings():\n",
    "    warnings.simplefilter(\"ignore\")\n",
    "    for x in [\"admission_type_id\",\"discharge_disposition_id\",\"admission_source_id\"]:\n",
    "        top_3 = features[x].value_counts().sort_values(ascending=False)[0:3].index\n",
    "        other = pd.Series([i for i in features[x] if i not in top_3]).unique()\n",
    "        features[x] = features[x].replace(other, \"other\") "
   ]
  },
  {
   "cell_type": "markdown",
   "id": "49862ff0-257b-490e-9312-f97758fa946b",
   "metadata": {},
   "source": [
    "#### Target"
   ]
  },
  {
   "cell_type": "code",
   "execution_count": 19,
   "id": "88ed311f-1ff0-419a-bd04-54d96e2bdee3",
   "metadata": {},
   "outputs": [
    {
     "data": {
      "text/plain": [
       "(101763, 1)"
      ]
     },
     "execution_count": 19,
     "metadata": {},
     "output_type": "execute_result"
    }
   ],
   "source": [
    "# Dimensions of the dataset\n",
    "target.shape"
   ]
  },
  {
   "cell_type": "code",
   "execution_count": 20,
   "id": "301e499d-80c7-4b8d-bd26-475438046da4",
   "metadata": {},
   "outputs": [
    {
     "data": {
      "text/plain": [
       "array(['NO', '>30', '<30'], dtype=object)"
      ]
     },
     "execution_count": 20,
     "metadata": {},
     "output_type": "execute_result"
    }
   ],
   "source": [
    "# Unique values\n",
    "target[\"readmitted\"].unique()"
   ]
  },
  {
   "cell_type": "raw",
   "id": "8be078f0-ff57-4e95-a872-2f1d84e94c61",
   "metadata": {},
   "source": [
    "Readmitted column has 3 unique values:\n",
    "* “<30” if the patient was readmitted in less than 30 days\n",
    "* “>30” if the patient was readmitted in more than 30 days\n",
    "* “No” for no record of readmission"
   ]
  },
  {
   "cell_type": "code",
   "execution_count": 21,
   "id": "8569e14f-b7da-4af0-867d-3ab1e482def9",
   "metadata": {},
   "outputs": [
    {
     "data": {
      "text/plain": [
       "readmitted    0\n",
       "dtype: int64"
      ]
     },
     "execution_count": 21,
     "metadata": {},
     "output_type": "execute_result"
    }
   ],
   "source": [
    "# missing values\n",
    "target.isna().sum()"
   ]
  },
  {
   "cell_type": "code",
   "execution_count": 22,
   "id": "b6c2df12-5df7-4574-a680-2678d6827ee1",
   "metadata": {},
   "outputs": [
    {
     "data": {
      "text/plain": [
       "readmitted\n",
       "NO            54861\n",
       ">30           35545\n",
       "<30           11357\n",
       "dtype: int64"
      ]
     },
     "execution_count": 22,
     "metadata": {},
     "output_type": "execute_result"
    }
   ],
   "source": [
    "# Number of records by readmitted category\n",
    "target.value_counts()"
   ]
  },
  {
   "cell_type": "raw",
   "id": "917bd1e1-12e6-4858-941e-55dbf9bd2655",
   "metadata": {},
   "source": [
    "There are a significant number of observations for each category. Nevertheless,\n",
    "the implementation of stratified sampling could be useful for this variable just to be sure that\n",
    "we do not have imbalanced data in the subsets."
   ]
  },
  {
   "cell_type": "markdown",
   "id": "79991428-e5e1-4477-9dd6-781e53085471",
   "metadata": {},
   "source": [
    "## Experimentation"
   ]
  },
  {
   "cell_type": "markdown",
   "id": "e4e2873d-7852-4789-abd7-51d6901a241d",
   "metadata": {},
   "source": [
    "In this phase we will play around  with the data in order to find the best possible solution for the inquiring:\n",
    "\n",
    "**\"What variables are significant to determine the readmittion of a patient?\"**\n",
    "\n",
    "**\"How can we improve this readmittion rate?\"**"
   ]
  },
  {
   "cell_type": "markdown",
   "id": "4aafdfcd-c175-48e0-878c-3bbebf1e26a5",
   "metadata": {},
   "source": [
    "All the variables in this dataset have an impact on analyzing the readmittion of a patient\n",
    "because they were selected by a group of health experts, so we trust in their decision. \n",
    "Then, our goal will be to determine **the most significant** variables to predict the readmittion and give recommendations."
   ]
  },
  {
   "cell_type": "markdown",
   "id": "3f6ed3b1-0f06-4efc-bd58-324624ef94e2",
   "metadata": {},
   "source": [
    "##### Convert categorical variables into a numerical format for fitting the model. Using one-hot encoding"
   ]
  },
  {
   "cell_type": "code",
   "execution_count": 23,
   "id": "d399aab8-a90d-4636-8e07-ae1e3f3ca0e8",
   "metadata": {},
   "outputs": [],
   "source": [
    "features_encoded = pd.get_dummies(features)\n",
    "target_encoded = pd.get_dummies(target)"
   ]
  },
  {
   "cell_type": "markdown",
   "id": "a8fa7fd3-b163-474f-a2be-fcdf2dc25e69",
   "metadata": {},
   "source": [
    "### Split into training and testing sets"
   ]
  },
  {
   "cell_type": "code",
   "execution_count": 24,
   "id": "fbfcf754-24e2-4e4b-8243-99c6b0f321d4",
   "metadata": {},
   "outputs": [],
   "source": [
    "X_train, X_test, y_train, y_test = train_test_split(features_encoded, target_encoded, test_size=0.3, stratify=target, random_state=12)"
   ]
  },
  {
   "cell_type": "markdown",
   "id": "e512f867-ea80-4ecd-938c-58f760051991",
   "metadata": {},
   "source": [
    "### Model to make predictions - Random Forest -"
   ]
  },
  {
   "cell_type": "code",
   "execution_count": 25,
   "id": "8728ff42-0721-45cb-b2c1-46bf9e5a7a9a",
   "metadata": {},
   "outputs": [
    {
     "data": {
      "text/html": [
       "<style>#sk-container-id-1 {color: black;}#sk-container-id-1 pre{padding: 0;}#sk-container-id-1 div.sk-toggleable {background-color: white;}#sk-container-id-1 label.sk-toggleable__label {cursor: pointer;display: block;width: 100%;margin-bottom: 0;padding: 0.3em;box-sizing: border-box;text-align: center;}#sk-container-id-1 label.sk-toggleable__label-arrow:before {content: \"▸\";float: left;margin-right: 0.25em;color: #696969;}#sk-container-id-1 label.sk-toggleable__label-arrow:hover:before {color: black;}#sk-container-id-1 div.sk-estimator:hover label.sk-toggleable__label-arrow:before {color: black;}#sk-container-id-1 div.sk-toggleable__content {max-height: 0;max-width: 0;overflow: hidden;text-align: left;background-color: #f0f8ff;}#sk-container-id-1 div.sk-toggleable__content pre {margin: 0.2em;color: black;border-radius: 0.25em;background-color: #f0f8ff;}#sk-container-id-1 input.sk-toggleable__control:checked~div.sk-toggleable__content {max-height: 200px;max-width: 100%;overflow: auto;}#sk-container-id-1 input.sk-toggleable__control:checked~label.sk-toggleable__label-arrow:before {content: \"▾\";}#sk-container-id-1 div.sk-estimator input.sk-toggleable__control:checked~label.sk-toggleable__label {background-color: #d4ebff;}#sk-container-id-1 div.sk-label input.sk-toggleable__control:checked~label.sk-toggleable__label {background-color: #d4ebff;}#sk-container-id-1 input.sk-hidden--visually {border: 0;clip: rect(1px 1px 1px 1px);clip: rect(1px, 1px, 1px, 1px);height: 1px;margin: -1px;overflow: hidden;padding: 0;position: absolute;width: 1px;}#sk-container-id-1 div.sk-estimator {font-family: monospace;background-color: #f0f8ff;border: 1px dotted black;border-radius: 0.25em;box-sizing: border-box;margin-bottom: 0.5em;}#sk-container-id-1 div.sk-estimator:hover {background-color: #d4ebff;}#sk-container-id-1 div.sk-parallel-item::after {content: \"\";width: 100%;border-bottom: 1px solid gray;flex-grow: 1;}#sk-container-id-1 div.sk-label:hover label.sk-toggleable__label {background-color: #d4ebff;}#sk-container-id-1 div.sk-serial::before {content: \"\";position: absolute;border-left: 1px solid gray;box-sizing: border-box;top: 0;bottom: 0;left: 50%;z-index: 0;}#sk-container-id-1 div.sk-serial {display: flex;flex-direction: column;align-items: center;background-color: white;padding-right: 0.2em;padding-left: 0.2em;position: relative;}#sk-container-id-1 div.sk-item {position: relative;z-index: 1;}#sk-container-id-1 div.sk-parallel {display: flex;align-items: stretch;justify-content: center;background-color: white;position: relative;}#sk-container-id-1 div.sk-item::before, #sk-container-id-1 div.sk-parallel-item::before {content: \"\";position: absolute;border-left: 1px solid gray;box-sizing: border-box;top: 0;bottom: 0;left: 50%;z-index: -1;}#sk-container-id-1 div.sk-parallel-item {display: flex;flex-direction: column;z-index: 1;position: relative;background-color: white;}#sk-container-id-1 div.sk-parallel-item:first-child::after {align-self: flex-end;width: 50%;}#sk-container-id-1 div.sk-parallel-item:last-child::after {align-self: flex-start;width: 50%;}#sk-container-id-1 div.sk-parallel-item:only-child::after {width: 0;}#sk-container-id-1 div.sk-dashed-wrapped {border: 1px dashed gray;margin: 0 0.4em 0.5em 0.4em;box-sizing: border-box;padding-bottom: 0.4em;background-color: white;}#sk-container-id-1 div.sk-label label {font-family: monospace;font-weight: bold;display: inline-block;line-height: 1.2em;}#sk-container-id-1 div.sk-label-container {text-align: center;}#sk-container-id-1 div.sk-container {/* jupyter's `normalize.less` sets `[hidden] { display: none; }` but bootstrap.min.css set `[hidden] { display: none !important; }` so we also need the `!important` here to be able to override the default hidden behavior on the sphinx rendered scikit-learn.org. See: https://github.com/scikit-learn/scikit-learn/issues/21755 */display: inline-block !important;position: relative;}#sk-container-id-1 div.sk-text-repr-fallback {display: none;}</style><div id=\"sk-container-id-1\" class=\"sk-top-container\"><div class=\"sk-text-repr-fallback\"><pre>RandomForestClassifier(n_estimators=500, n_jobs=-1, random_state=12)</pre><b>In a Jupyter environment, please rerun this cell to show the HTML representation or trust the notebook. <br />On GitHub, the HTML representation is unable to render, please try loading this page with nbviewer.org.</b></div><div class=\"sk-container\" hidden><div class=\"sk-item\"><div class=\"sk-estimator sk-toggleable\"><input class=\"sk-toggleable__control sk-hidden--visually\" id=\"sk-estimator-id-1\" type=\"checkbox\" checked><label for=\"sk-estimator-id-1\" class=\"sk-toggleable__label sk-toggleable__label-arrow\">RandomForestClassifier</label><div class=\"sk-toggleable__content\"><pre>RandomForestClassifier(n_estimators=500, n_jobs=-1, random_state=12)</pre></div></div></div></div></div>"
      ],
      "text/plain": [
       "RandomForestClassifier(n_estimators=500, n_jobs=-1, random_state=12)"
      ]
     },
     "execution_count": 25,
     "metadata": {},
     "output_type": "execute_result"
    }
   ],
   "source": [
    "rf_selection_model = RandomForestClassifier(n_estimators=500, random_state=12, n_jobs=-1)\n",
    "rf_selection_model.fit(X_train, y_train)"
   ]
  },
  {
   "cell_type": "code",
   "execution_count": 26,
   "id": "ca0eb660-d678-4979-a5db-18f11e886439",
   "metadata": {},
   "outputs": [],
   "source": [
    "# Predictions with train set\n",
    "y_pred_train = rf_selection_model.predict(X_train)"
   ]
  },
  {
   "cell_type": "code",
   "execution_count": 27,
   "id": "bc55e139-e6ee-4e7b-8f27-9574e75a7a60",
   "metadata": {},
   "outputs": [
    {
     "name": "stdout",
     "output_type": "stream",
     "text": [
      "F1 score: 1.0\n"
     ]
    }
   ],
   "source": [
    "print(\"F1 score:\", f1_score(y_pred_train, y_train, average=\"weighted\"))"
   ]
  },
  {
   "cell_type": "code",
   "execution_count": 28,
   "id": "8213a855-2d41-4020-abb3-6643178dd242",
   "metadata": {},
   "outputs": [],
   "source": [
    "# Predictions with test set\n",
    "y_pred_test = rf_selection_model.predict(X_test)"
   ]
  },
  {
   "cell_type": "code",
   "execution_count": 29,
   "id": "a4eb5a0e-dd10-4770-b063-7c4a056062ab",
   "metadata": {},
   "outputs": [
    {
     "name": "stdout",
     "output_type": "stream",
     "text": [
      "F1 score: 0.6157909192661022\n"
     ]
    }
   ],
   "source": [
    "print(\"F1 score:\", f1_score(y_pred_test, y_test, average=\"weighted\"))"
   ]
  },
  {
   "cell_type": "raw",
   "id": "1c480379-4723-4605-9939-f133611d6ec6",
   "metadata": {},
   "source": [
    "At this point, we could tell that the model suffers overfitting because it has a really good performance with\n",
    "the training data but the quality of the predictions decreases significantly using the testing data. To improve this\n",
    "situation we will do further analysis."
   ]
  },
  {
   "cell_type": "markdown",
   "id": "367c364e-c6ca-4ccc-84c7-fe38247202d6",
   "metadata": {},
   "source": [
    "##### Lets variate the hyperparameters of the model to improve its performance"
   ]
  },
  {
   "cell_type": "code",
   "execution_count": 30,
   "id": "15c77fbd-3603-4085-80f8-6f24168cc019",
   "metadata": {},
   "outputs": [
    {
     "data": {
      "text/html": [
       "<style>#sk-container-id-2 {color: black;}#sk-container-id-2 pre{padding: 0;}#sk-container-id-2 div.sk-toggleable {background-color: white;}#sk-container-id-2 label.sk-toggleable__label {cursor: pointer;display: block;width: 100%;margin-bottom: 0;padding: 0.3em;box-sizing: border-box;text-align: center;}#sk-container-id-2 label.sk-toggleable__label-arrow:before {content: \"▸\";float: left;margin-right: 0.25em;color: #696969;}#sk-container-id-2 label.sk-toggleable__label-arrow:hover:before {color: black;}#sk-container-id-2 div.sk-estimator:hover label.sk-toggleable__label-arrow:before {color: black;}#sk-container-id-2 div.sk-toggleable__content {max-height: 0;max-width: 0;overflow: hidden;text-align: left;background-color: #f0f8ff;}#sk-container-id-2 div.sk-toggleable__content pre {margin: 0.2em;color: black;border-radius: 0.25em;background-color: #f0f8ff;}#sk-container-id-2 input.sk-toggleable__control:checked~div.sk-toggleable__content {max-height: 200px;max-width: 100%;overflow: auto;}#sk-container-id-2 input.sk-toggleable__control:checked~label.sk-toggleable__label-arrow:before {content: \"▾\";}#sk-container-id-2 div.sk-estimator input.sk-toggleable__control:checked~label.sk-toggleable__label {background-color: #d4ebff;}#sk-container-id-2 div.sk-label input.sk-toggleable__control:checked~label.sk-toggleable__label {background-color: #d4ebff;}#sk-container-id-2 input.sk-hidden--visually {border: 0;clip: rect(1px 1px 1px 1px);clip: rect(1px, 1px, 1px, 1px);height: 1px;margin: -1px;overflow: hidden;padding: 0;position: absolute;width: 1px;}#sk-container-id-2 div.sk-estimator {font-family: monospace;background-color: #f0f8ff;border: 1px dotted black;border-radius: 0.25em;box-sizing: border-box;margin-bottom: 0.5em;}#sk-container-id-2 div.sk-estimator:hover {background-color: #d4ebff;}#sk-container-id-2 div.sk-parallel-item::after {content: \"\";width: 100%;border-bottom: 1px solid gray;flex-grow: 1;}#sk-container-id-2 div.sk-label:hover label.sk-toggleable__label {background-color: #d4ebff;}#sk-container-id-2 div.sk-serial::before {content: \"\";position: absolute;border-left: 1px solid gray;box-sizing: border-box;top: 0;bottom: 0;left: 50%;z-index: 0;}#sk-container-id-2 div.sk-serial {display: flex;flex-direction: column;align-items: center;background-color: white;padding-right: 0.2em;padding-left: 0.2em;position: relative;}#sk-container-id-2 div.sk-item {position: relative;z-index: 1;}#sk-container-id-2 div.sk-parallel {display: flex;align-items: stretch;justify-content: center;background-color: white;position: relative;}#sk-container-id-2 div.sk-item::before, #sk-container-id-2 div.sk-parallel-item::before {content: \"\";position: absolute;border-left: 1px solid gray;box-sizing: border-box;top: 0;bottom: 0;left: 50%;z-index: -1;}#sk-container-id-2 div.sk-parallel-item {display: flex;flex-direction: column;z-index: 1;position: relative;background-color: white;}#sk-container-id-2 div.sk-parallel-item:first-child::after {align-self: flex-end;width: 50%;}#sk-container-id-2 div.sk-parallel-item:last-child::after {align-self: flex-start;width: 50%;}#sk-container-id-2 div.sk-parallel-item:only-child::after {width: 0;}#sk-container-id-2 div.sk-dashed-wrapped {border: 1px dashed gray;margin: 0 0.4em 0.5em 0.4em;box-sizing: border-box;padding-bottom: 0.4em;background-color: white;}#sk-container-id-2 div.sk-label label {font-family: monospace;font-weight: bold;display: inline-block;line-height: 1.2em;}#sk-container-id-2 div.sk-label-container {text-align: center;}#sk-container-id-2 div.sk-container {/* jupyter's `normalize.less` sets `[hidden] { display: none; }` but bootstrap.min.css set `[hidden] { display: none !important; }` so we also need the `!important` here to be able to override the default hidden behavior on the sphinx rendered scikit-learn.org. See: https://github.com/scikit-learn/scikit-learn/issues/21755 */display: inline-block !important;position: relative;}#sk-container-id-2 div.sk-text-repr-fallback {display: none;}</style><div id=\"sk-container-id-2\" class=\"sk-top-container\"><div class=\"sk-text-repr-fallback\"><pre>RandomForestClassifier(max_depth=4, max_leaf_nodes=16, n_estimators=500,\n",
       "                       n_jobs=-1, random_state=12)</pre><b>In a Jupyter environment, please rerun this cell to show the HTML representation or trust the notebook. <br />On GitHub, the HTML representation is unable to render, please try loading this page with nbviewer.org.</b></div><div class=\"sk-container\" hidden><div class=\"sk-item\"><div class=\"sk-estimator sk-toggleable\"><input class=\"sk-toggleable__control sk-hidden--visually\" id=\"sk-estimator-id-2\" type=\"checkbox\" checked><label for=\"sk-estimator-id-2\" class=\"sk-toggleable__label sk-toggleable__label-arrow\">RandomForestClassifier</label><div class=\"sk-toggleable__content\"><pre>RandomForestClassifier(max_depth=4, max_leaf_nodes=16, n_estimators=500,\n",
       "                       n_jobs=-1, random_state=12)</pre></div></div></div></div></div>"
      ],
      "text/plain": [
       "RandomForestClassifier(max_depth=4, max_leaf_nodes=16, n_estimators=500,\n",
       "                       n_jobs=-1, random_state=12)"
      ]
     },
     "execution_count": 30,
     "metadata": {},
     "output_type": "execute_result"
    }
   ],
   "source": [
    "rf_selection_model_adjusted = RandomForestClassifier(n_estimators=500,\n",
    "                                                     max_leaf_nodes=16, # parameter to reduce overfitting\n",
    "                                                     max_depth = 4, # parameter to reduce overfitting\n",
    "                                                     random_state=12,\n",
    "                                                     n_jobs=-1)\n",
    "rf_selection_model_adjusted.fit(X_train, y_train)"
   ]
  },
  {
   "cell_type": "code",
   "execution_count": 31,
   "id": "4d685d3c-3be1-4718-bbba-7b2e5bfaaef6",
   "metadata": {},
   "outputs": [],
   "source": [
    "# Predictions with test set\n",
    "y_pred_test_adjusted = rf_selection_model_adjusted.predict(X_test)"
   ]
  },
  {
   "cell_type": "code",
   "execution_count": 32,
   "id": "bb14e0ee-b50c-4f98-9b0d-3d032b08abe3",
   "metadata": {},
   "outputs": [
    {
     "name": "stdout",
     "output_type": "stream",
     "text": [
      "F1 score: 0.7016231618582405\n"
     ]
    }
   ],
   "source": [
    "print(\"F1 score:\", f1_score(y_pred_test_adjusted, y_test, average=\"weighted\"))"
   ]
  },
  {
   "cell_type": "raw",
   "id": "b2da0758-1407-4197-842b-327ede9d609a",
   "metadata": {},
   "source": [
    "We can see that using hyperparameters to reduce the over specialization of each tree the predictions improved"
   ]
  },
  {
   "cell_type": "markdown",
   "id": "37477b75-938a-4e38-8d61-f870a741d280",
   "metadata": {},
   "source": [
    "#### Feature selection"
   ]
  },
  {
   "cell_type": "raw",
   "id": "3337aded-73c6-45a5-8bc3-0e6dff914ef3",
   "metadata": {},
   "source": [
    "We will use Random Forest to do feature selection because the relative importance of a feature can be evaluated\n",
    "on how much it helped to reduce the impurity of a node in each decision tree."
   ]
  },
  {
   "cell_type": "code",
   "execution_count": 33,
   "id": "bc0a1aed-c2f8-4c88-8b6f-13505852fd40",
   "metadata": {},
   "outputs": [],
   "source": [
    "# Create an ordered serie sorted by relevant features in the model\n",
    "\n",
    "feature_importance = {name: score for name, score in zip(list(features_encoded), rf_selection_model_adjusted.feature_importances_)}\n",
    "feature_importance_sorted = pd.Series(feature_importance).sort_values(ascending=False)"
   ]
  },
  {
   "cell_type": "code",
   "execution_count": 64,
   "id": "e7a1bb36-b013-43b1-8f24-98e95d0ee88f",
   "metadata": {},
   "outputs": [],
   "source": [
    "# Extract the 40 most relevant features\n",
    "columns = list(feature_importance_sorted.head(40).index)\n",
    "X_train_reduced = X_train[columns].copy()\n",
    "X_test_reduced = X_test[columns].copy()"
   ]
  },
  {
   "cell_type": "code",
   "execution_count": 65,
   "id": "698fffad-bb9e-401b-8e4d-fce01af283e8",
   "metadata": {},
   "outputs": [
    {
     "data": {
      "text/html": [
       "<style>#sk-container-id-8 {color: black;}#sk-container-id-8 pre{padding: 0;}#sk-container-id-8 div.sk-toggleable {background-color: white;}#sk-container-id-8 label.sk-toggleable__label {cursor: pointer;display: block;width: 100%;margin-bottom: 0;padding: 0.3em;box-sizing: border-box;text-align: center;}#sk-container-id-8 label.sk-toggleable__label-arrow:before {content: \"▸\";float: left;margin-right: 0.25em;color: #696969;}#sk-container-id-8 label.sk-toggleable__label-arrow:hover:before {color: black;}#sk-container-id-8 div.sk-estimator:hover label.sk-toggleable__label-arrow:before {color: black;}#sk-container-id-8 div.sk-toggleable__content {max-height: 0;max-width: 0;overflow: hidden;text-align: left;background-color: #f0f8ff;}#sk-container-id-8 div.sk-toggleable__content pre {margin: 0.2em;color: black;border-radius: 0.25em;background-color: #f0f8ff;}#sk-container-id-8 input.sk-toggleable__control:checked~div.sk-toggleable__content {max-height: 200px;max-width: 100%;overflow: auto;}#sk-container-id-8 input.sk-toggleable__control:checked~label.sk-toggleable__label-arrow:before {content: \"▾\";}#sk-container-id-8 div.sk-estimator input.sk-toggleable__control:checked~label.sk-toggleable__label {background-color: #d4ebff;}#sk-container-id-8 div.sk-label input.sk-toggleable__control:checked~label.sk-toggleable__label {background-color: #d4ebff;}#sk-container-id-8 input.sk-hidden--visually {border: 0;clip: rect(1px 1px 1px 1px);clip: rect(1px, 1px, 1px, 1px);height: 1px;margin: -1px;overflow: hidden;padding: 0;position: absolute;width: 1px;}#sk-container-id-8 div.sk-estimator {font-family: monospace;background-color: #f0f8ff;border: 1px dotted black;border-radius: 0.25em;box-sizing: border-box;margin-bottom: 0.5em;}#sk-container-id-8 div.sk-estimator:hover {background-color: #d4ebff;}#sk-container-id-8 div.sk-parallel-item::after {content: \"\";width: 100%;border-bottom: 1px solid gray;flex-grow: 1;}#sk-container-id-8 div.sk-label:hover label.sk-toggleable__label {background-color: #d4ebff;}#sk-container-id-8 div.sk-serial::before {content: \"\";position: absolute;border-left: 1px solid gray;box-sizing: border-box;top: 0;bottom: 0;left: 50%;z-index: 0;}#sk-container-id-8 div.sk-serial {display: flex;flex-direction: column;align-items: center;background-color: white;padding-right: 0.2em;padding-left: 0.2em;position: relative;}#sk-container-id-8 div.sk-item {position: relative;z-index: 1;}#sk-container-id-8 div.sk-parallel {display: flex;align-items: stretch;justify-content: center;background-color: white;position: relative;}#sk-container-id-8 div.sk-item::before, #sk-container-id-8 div.sk-parallel-item::before {content: \"\";position: absolute;border-left: 1px solid gray;box-sizing: border-box;top: 0;bottom: 0;left: 50%;z-index: -1;}#sk-container-id-8 div.sk-parallel-item {display: flex;flex-direction: column;z-index: 1;position: relative;background-color: white;}#sk-container-id-8 div.sk-parallel-item:first-child::after {align-self: flex-end;width: 50%;}#sk-container-id-8 div.sk-parallel-item:last-child::after {align-self: flex-start;width: 50%;}#sk-container-id-8 div.sk-parallel-item:only-child::after {width: 0;}#sk-container-id-8 div.sk-dashed-wrapped {border: 1px dashed gray;margin: 0 0.4em 0.5em 0.4em;box-sizing: border-box;padding-bottom: 0.4em;background-color: white;}#sk-container-id-8 div.sk-label label {font-family: monospace;font-weight: bold;display: inline-block;line-height: 1.2em;}#sk-container-id-8 div.sk-label-container {text-align: center;}#sk-container-id-8 div.sk-container {/* jupyter's `normalize.less` sets `[hidden] { display: none; }` but bootstrap.min.css set `[hidden] { display: none !important; }` so we also need the `!important` here to be able to override the default hidden behavior on the sphinx rendered scikit-learn.org. See: https://github.com/scikit-learn/scikit-learn/issues/21755 */display: inline-block !important;position: relative;}#sk-container-id-8 div.sk-text-repr-fallback {display: none;}</style><div id=\"sk-container-id-8\" class=\"sk-top-container\"><div class=\"sk-text-repr-fallback\"><pre>RandomForestClassifier(max_depth=4, max_leaf_nodes=16, n_estimators=500,\n",
       "                       n_jobs=-1, random_state=12)</pre><b>In a Jupyter environment, please rerun this cell to show the HTML representation or trust the notebook. <br />On GitHub, the HTML representation is unable to render, please try loading this page with nbviewer.org.</b></div><div class=\"sk-container\" hidden><div class=\"sk-item\"><div class=\"sk-estimator sk-toggleable\"><input class=\"sk-toggleable__control sk-hidden--visually\" id=\"sk-estimator-id-8\" type=\"checkbox\" checked><label for=\"sk-estimator-id-8\" class=\"sk-toggleable__label sk-toggleable__label-arrow\">RandomForestClassifier</label><div class=\"sk-toggleable__content\"><pre>RandomForestClassifier(max_depth=4, max_leaf_nodes=16, n_estimators=500,\n",
       "                       n_jobs=-1, random_state=12)</pre></div></div></div></div></div>"
      ],
      "text/plain": [
       "RandomForestClassifier(max_depth=4, max_leaf_nodes=16, n_estimators=500,\n",
       "                       n_jobs=-1, random_state=12)"
      ]
     },
     "execution_count": 65,
     "metadata": {},
     "output_type": "execute_result"
    }
   ],
   "source": [
    "# Retrain the model with relevant features\n",
    "rf_selection_model_reduced = RandomForestClassifier(n_estimators=500,\n",
    "                                                    random_state=12,\n",
    "                                                    max_leaf_nodes=16, \n",
    "                                                    max_depth = 4,\n",
    "                                                    n_jobs=-1)\n",
    "rf_selection_model_reduced.fit(X_train_reduced, y_train)"
   ]
  },
  {
   "cell_type": "code",
   "execution_count": 66,
   "id": "64a91a39-1396-4e59-85f7-1c43bc145898",
   "metadata": {},
   "outputs": [],
   "source": [
    "# Predictions with train reduce set\n",
    "y_pred_train_reduced = rf_selection_model_reduced.predict(X_train_reduced)"
   ]
  },
  {
   "cell_type": "code",
   "execution_count": 67,
   "id": "033f10ad-778e-4361-a4fa-25143535f5c6",
   "metadata": {},
   "outputs": [
    {
     "name": "stdout",
     "output_type": "stream",
     "text": [
      "F1 score: 0.6980753743588073\n"
     ]
    }
   ],
   "source": [
    "print(\"F1 score:\", f1_score(y_pred_train_reduced, y_train, average=\"weighted\"))"
   ]
  },
  {
   "cell_type": "code",
   "execution_count": 68,
   "id": "ea9f2d46-49a6-4a3e-ac25-ae67cad574d1",
   "metadata": {},
   "outputs": [],
   "source": [
    "# Predictions with test reduce set\n",
    "y_pred_test_reduced = rf_selection_model_reduced.predict(X_test_reduced)"
   ]
  },
  {
   "cell_type": "code",
   "execution_count": 69,
   "id": "f6bf8287-c6cd-479a-9975-cdeda11dfdc0",
   "metadata": {},
   "outputs": [
    {
     "name": "stdout",
     "output_type": "stream",
     "text": [
      "F1 score: 0.6936289823746131\n"
     ]
    }
   ],
   "source": [
    "print(\"F1 score:\", f1_score(y_pred_test_reduced, y_test, average=\"weighted\"))"
   ]
  },
  {
   "cell_type": "raw",
   "id": "5bc318f0-4fb8-4d6f-8de9-c44d23a601d4",
   "metadata": {},
   "source": [
    "We can see that just taking the 40 most relevant features the prediction of the model is almost the same. \n",
    "This dimension reduction helps significantly on time of training and getting insights into what variables could be the\n",
    "key drivers to determine the readmitted of a patient."
   ]
  },
  {
   "cell_type": "markdown",
   "id": "65f799c1-442c-475f-8c90-be2ce963feea",
   "metadata": {},
   "source": [
    "## Conclusions"
   ]
  },
  {
   "cell_type": "raw",
   "id": "ac201a1f-724e-4f3e-aebf-7c160d0c2b40",
   "metadata": {},
   "source": [
    "The random forest provides approximately 70% of prediction success. This number could be improved by doing further research.\n",
    "Maybe trying different models, getting more context of the data, and analyzing a better way to transform it.\n",
    "\n",
    "Let's see the 10 most relevant variables for doing the classification:"
   ]
  },
  {
   "cell_type": "code",
   "execution_count": 70,
   "id": "f1b3249d-81ed-423a-90ca-a84a1d0019a4",
   "metadata": {},
   "outputs": [
    {
     "data": {
      "text/plain": [
       "number_inpatient                  0.297100\n",
       "number_emergency                  0.116495\n",
       "number_diagnoses                  0.085224\n",
       "number_outpatient                 0.078223\n",
       "admission_source_id_other         0.060723\n",
       "num_medications                   0.041304\n",
       "admission_source_id_7             0.036984\n",
       "discharge_disposition_id_other    0.035510\n",
       "diabetesMed_Yes                   0.022509\n",
       "discharge_disposition_id_6        0.021677\n",
       "dtype: float64"
      ]
     },
     "execution_count": 70,
     "metadata": {},
     "output_type": "execute_result"
    }
   ],
   "source": [
    "feature_importance_sorted.head(10)"
   ]
  },
  {
   "cell_type": "raw",
   "id": "78fb8a3f-a762-4d64-ace7-6a83bc33cd22",
   "metadata": {},
   "source": [
    "These variables should be analyzed with the group of health experts to understand the type of relation between\n",
    "them and the target variable."
   ]
  }
 ],
 "metadata": {
  "kernelspec": {
   "display_name": "Python 3 (ipykernel)",
   "language": "python",
   "name": "python3"
  },
  "language_info": {
   "codemirror_mode": {
    "name": "ipython",
    "version": 3
   },
   "file_extension": ".py",
   "mimetype": "text/x-python",
   "name": "python",
   "nbconvert_exporter": "python",
   "pygments_lexer": "ipython3",
   "version": "3.10.0"
  }
 },
 "nbformat": 4,
 "nbformat_minor": 5
}
